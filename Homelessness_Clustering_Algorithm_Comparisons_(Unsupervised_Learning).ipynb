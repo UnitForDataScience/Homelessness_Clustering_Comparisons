{
  "nbformat": 4,
  "nbformat_minor": 0,
  "metadata": {
    "colab": {
      "name": "Homelessness Clustering Algorithm Comparisons (Unsupervised Learning).ipynb",
      "provenance": [],
      "toc_visible": true,
      "include_colab_link": true
    },
    "kernelspec": {
      "name": "python3",
      "display_name": "Python 3"
    }
  },
  "cells": [
    {
      "cell_type": "markdown",
      "metadata": {
        "id": "view-in-github",
        "colab_type": "text"
      },
      "source": [
        "<a href=\"https://colab.research.google.com/github/UnitForDataScience/Homelessness_Clustering_Comparisons/blob/master/Homelessness_Clustering_Algorithm_Comparisons_(Unsupervised_Learning).ipynb\" target=\"_parent\"><img src=\"https://colab.research.google.com/assets/colab-badge.svg\" alt=\"Open In Colab\"/></a>"
      ]
    },
    {
      "cell_type": "markdown",
      "metadata": {
        "id": "pyqOVMcFD1W0",
        "colab_type": "text"
      },
      "source": [
        "# Introduction\n",
        "\n",
        "OBJECTIVE"
      ]
    },
    {
      "cell_type": "code",
      "metadata": {
        "id": "mt6rgwY3QIjw",
        "colab_type": "code",
        "outputId": "e260de7f-b3e0-4834-a56a-f23a2e4b4e4c",
        "colab": {
          "base_uri": "https://localhost:8080/",
          "height": 34
        }
      },
      "source": [
        "import pandas as pd\n",
        "import numpy as np\n",
        "import time\n",
        "\n",
        "print('Imports completed successfully')"
      ],
      "execution_count": 0,
      "outputs": [
        {
          "output_type": "stream",
          "text": [
            "Imports completed successfully\n"
          ],
          "name": "stdout"
        }
      ]
    },
    {
      "cell_type": "markdown",
      "metadata": {
        "id": "GHGcQ6DEI1Xc",
        "colab_type": "text"
      },
      "source": [
        "# Data Import\n",
        "\n",
        "DATA DESCRIPTION"
      ]
    },
    {
      "cell_type": "code",
      "metadata": {
        "id": "A_yUaf9OHRRY",
        "colab_type": "code",
        "outputId": "ba61f998-7435-4425-afc4-35bd74ab4a29",
        "colab": {
          "base_uri": "https://localhost:8080/",
          "height": 153
        }
      },
      "source": [
        "# Data load\n",
        "\n",
        "url = 'https://raw.githubusercontent.com/djlittle/Homelessness_Clustering_Comparisons/master/Data/HMIS%20Data%20Extract.csv'\n",
        "\n",
        "dat = pd.read_csv(url)\n",
        "\n",
        "print(dat.head())\n"
      ],
      "execution_count": 0,
      "outputs": [
        {
          "output_type": "stream",
          "text": [
            "   personalid  ...  projecttype_14_count\n",
            "0         342  ...                   2.0\n",
            "1         401  ...                   1.0\n",
            "2         402  ...                   1.0\n",
            "3         424  ...                   NaN\n",
            "4         438  ...                   NaN\n",
            "\n",
            "[5 rows x 13 columns]\n"
          ],
          "name": "stdout"
        }
      ]
    },
    {
      "cell_type": "code",
      "metadata": {
        "id": "zBb3C5xGILlp",
        "colab_type": "code",
        "colab": {}
      },
      "source": [
        "# Dataframe manipulation and nan handling\n",
        "\n",
        "processing_times = pd.DataFrame()  # For assessing each algorithm's processing times\n",
        "\n",
        "df = dat.iloc[:, 1:]\n",
        "df.fillna(-1, inplace=True)\n",
        "\n",
        "print(df.head())"
      ],
      "execution_count": 0,
      "outputs": []
    },
    {
      "cell_type": "markdown",
      "metadata": {
        "id": "NY6TDZ_WJINF",
        "colab_type": "text"
      },
      "source": [
        "# KMEANS Model"
      ]
    },
    {
      "cell_type": "code",
      "metadata": {
        "id": "XcTTRGKlI9Dy",
        "colab_type": "code",
        "outputId": "e1cebfc3-767b-4478-e266-a9dca1105c33",
        "colab": {
          "base_uri": "https://localhost:8080/",
          "height": 51
        }
      },
      "source": [
        "# Kmeans \n",
        "\n",
        "from sklearn.cluster import KMeans\n",
        "\n",
        "start = time.time()\n",
        "kmeans = KMeans(n_clusters=10, verbose=True, n_jobs=-1).fit(df)\n",
        "kmeans_labels = kmeans.labels_ + 1\n",
        "end = time.time()\n",
        "\n",
        "processing_times['kmeans'] = [(end - start)]\n",
        "\n",
        "dat['kmeans'] = kmeans_labels\n",
        "\n",
        "print('Kmeans model complete')\n",
        "print('Processing time: '+ str(processing_times['kmeans'][0]) + ' seconds')"
      ],
      "execution_count": 0,
      "outputs": [
        {
          "output_type": "stream",
          "text": [
            "Kmeans model complete.\n",
            "Processing time: 1.4251909255981445 seconds.\n"
          ],
          "name": "stdout"
        }
      ]
    },
    {
      "cell_type": "markdown",
      "metadata": {
        "id": "Vo1bDYbDJO_E",
        "colab_type": "text"
      },
      "source": [
        "# DBSCAN Model"
      ]
    },
    {
      "cell_type": "code",
      "metadata": {
        "id": "XfYZK4q2KOIJ",
        "colab_type": "code",
        "outputId": "d3d7e3fa-95f5-476f-9d1f-9f5d92970536",
        "colab": {
          "base_uri": "https://localhost:8080/",
          "height": 51
        }
      },
      "source": [
        "# DBSCAN \n",
        "\n",
        "from sklearn.cluster import DBSCAN\n",
        "\n",
        "start = time.time()\n",
        "dbscan = DBSCAN(eps=2.5, min_samples=10, n_jobs=-1).fit(df)\n",
        "dbscan_labels = dbscan.labels_ + 1\n",
        "end = time.time()\n",
        "\n",
        "processing_times['dbscan'] = [(end - start)]\n",
        "\n",
        "dat['dbscan'] = dbscan_labels\n",
        "\n",
        "print('DBSCAN model complete')\n",
        "print('Processing time: '+ str(processing_times['dbscan'][0]) + ' seconds')\n"
      ],
      "execution_count": 0,
      "outputs": [
        {
          "output_type": "stream",
          "text": [
            "DBSCAN model complete\n",
            "Processing time: 10.983789443969727 seconds\n"
          ],
          "name": "stdout"
        }
      ]
    },
    {
      "cell_type": "markdown",
      "metadata": {
        "id": "NpdOKtSeJULM",
        "colab_type": "text"
      },
      "source": [
        "# BIRCH Model"
      ]
    },
    {
      "cell_type": "code",
      "metadata": {
        "id": "78Bh_UkZiXDY",
        "colab_type": "code",
        "outputId": "190c8375-6e56-4064-ddfd-a400f3c55a96",
        "colab": {
          "base_uri": "https://localhost:8080/",
          "height": 51
        }
      },
      "source": [
        "# Birch algorithm\n",
        "\n",
        "from sklearn.cluster import Birch\n",
        "\n",
        "start = time.time()\n",
        "birch = Birch(branching_factor=1000, n_clusters=10, threshold=1.5).fit(df)\n",
        "birch_labels = birch.labels_+1\n",
        "end = time.time()\n",
        "\n",
        "processing_times['birch'] = [(end - start)]\n",
        "\n",
        "dat['birch'] = birch_labels\n",
        "\n",
        "print('BIRCH model complete')\n",
        "print('Processing time: '+ str(processing_times['birch'][0]) + ' seconds')"
      ],
      "execution_count": 0,
      "outputs": [
        {
          "output_type": "stream",
          "text": [
            "BIRCH model complete\n",
            "Processing time: 2.7972116470336914 seconds\n"
          ],
          "name": "stdout"
        }
      ]
    },
    {
      "cell_type": "markdown",
      "metadata": {
        "id": "m-04RwTQJVcM",
        "colab_type": "text"
      },
      "source": [
        "# Performance and Cluster Results"
      ]
    },
    {
      "cell_type": "code",
      "metadata": {
        "id": "ZCtEQoNpQh-B",
        "colab_type": "code",
        "outputId": "4b50c9fd-77e2-4018-a4e5-c5af8c7b2b25",
        "colab": {
          "base_uri": "https://localhost:8080/",
          "height": 102
        }
      },
      "source": [
        "# Comparing clusters\n",
        "\n",
        "print(processing_times)\n",
        "\n",
        "unique, counts = np.unique(kmeans_labels, return_counts=True)\n",
        "kmeans_clusters = dict(zip(unique, counts))\n",
        "print(kmeans_clusters)\n",
        "\n",
        "unique, counts = np.unique(dbscan_labels, return_counts=True)\n",
        "dbscan_clusters = dict(zip(unique, counts))\n",
        "print(dbscan_clusters)\n",
        "\n",
        "unique, counts = np.unique(birch_labels, return_counts=True)\n",
        "birch_clusters = dict(zip(unique, counts))\n",
        "print(birch_clusters)"
      ],
      "execution_count": 0,
      "outputs": [
        {
          "output_type": "stream",
          "text": [
            "     kmeans     dbscan     birch\n",
            "0  1.425191  10.983789  2.797212\n",
            "{1: 1582, 2: 22675, 3: 423, 4: 71, 5: 1110, 6: 2029, 7: 267, 8: 52, 9: 95, 10: 1041}\n",
            "{-1: 1676, 0: 3130, 1: 19508, 2: 96, 3: 907, 4: 1239, 5: 1747, 6: 686, 7: 173, 8: 26, 9: 29, 10: 56, 11: 11, 12: 11, 13: 19, 14: 10, 15: 11, 16: 10}\n",
            "{1: 54, 2: 375, 3: 24506, 4: 2295, 5: 1492, 6: 59, 7: 48, 8: 320, 9: 41, 10: 155}\n"
          ],
          "name": "stdout"
        }
      ]
    }
  ]
}