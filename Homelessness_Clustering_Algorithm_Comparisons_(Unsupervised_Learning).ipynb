{
  "nbformat": 4,
  "nbformat_minor": 0,
  "metadata": {
    "colab": {
      "name": "Homelessness Clustering Algorithm Comparisons (Unsupervised Learning).ipynb",
      "provenance": [],
      "collapsed_sections": [],
      "toc_visible": true,
      "include_colab_link": true
    },
    "kernelspec": {
      "name": "python3",
      "display_name": "Python 3"
    }
  },
  "cells": [
    {
      "cell_type": "markdown",
      "metadata": {
        "id": "view-in-github",
        "colab_type": "text"
      },
      "source": [
        "<a href=\"https://colab.research.google.com/github/UnitForDataScience/Homelessness_Clustering_Comparisons/blob/master/Homelessness_Clustering_Algorithm_Comparisons_(Unsupervised_Learning).ipynb\" target=\"_parent\"><img src=\"https://colab.research.google.com/assets/colab-badge.svg\" alt=\"Open In Colab\"/></a>"
      ]
    },
    {
      "cell_type": "markdown",
      "metadata": {
        "id": "pyqOVMcFD1W0"
      },
      "source": [
        "# Introduction\n",
        "\n",
        "OBJECTIVE:\n",
        "\n",
        "This project consists of 4 distinct tasks revolving around a dataset tracking the services used by homeless people in Maricopa county, Arizona. The overarching objective was to design a risk model that assessed the likelihood of people falling back into homelessness after utilizing certain services. An essential component of this was to identify natural clusters of usage patterns within the data. This allowed us to observe how distinct groups of people flowed through the system and to identify success stories within the data. While our team settled on the BIRCH algorithm, we are interested in identifying other clustering algorithms that may be more efficient or may tell us an interesting story from the data. We are interested in any approach identified.\n",
        "\n",
        "The tasks of this project are as follows: \n",
        "\n",
        "1.   Compare the performance and output of various clustering algorithms \n",
        "2.   Implementation of hyperparameter optimization of any clustering algorithm of choice\n",
        "3.   Identify an optimal number of clusters\n",
        "4.   Assess different distance metrics for computing similarity\n",
        "\n",
        "<br>\n",
        "\n",
        "For more information on the fundamentals of data clustering, please see the following hyperlink:\n",
        "\n",
        "https://en.wikipedia.org/wiki/Cluster_analysis\n",
        "\n",
        "<br>\n",
        "\n",
        "Please note that the code snippets in the \"Data Import and Initialization\" section must be executed before any subsequent section can be run.\n",
        "\n",
        "---\n"
      ]
    },
    {
      "cell_type": "markdown",
      "metadata": {
        "id": "GHGcQ6DEI1Xc"
      },
      "source": [
        "# Data Import and Initialization\n",
        "\n",
        "DATA DESCRIPTION: \n",
        "\n",
        "Data is comprised of usage statistics of a majority of homeless service in Maricopa County, AZ from January 1st, 2014 to December 30th, 2018. Each row represents a unique person (identified by the first column, \"personalid\") and captures their total usage of each service within the aforementioned timeframe. The only exception is the second column labeled \"projecttype_1_bednights\", which captures the total number of nights spent in project type 1 only. Please click the following hyperlink to see the data in its raw form: \n",
        "\n",
        "https://raw.githubusercontent.com/djlittle/Homelessness_Clustering_Comparisons/master/Data/HMIS%20Data%20Extract.csv\n"
      ]
    },
    {
      "cell_type": "code",
      "metadata": {
        "id": "mt6rgwY3QIjw",
        "outputId": "6dbd1c1c-e14b-4b0f-f045-0ba624ac0f81",
        "colab": {
          "base_uri": "https://localhost:8080/"
        }
      },
      "source": [
        "# General package imports\n",
        "\n",
        "import pandas as pd\n",
        "import numpy as np\n",
        "import time\n",
        "\n",
        "print('Imports completed successfully')"
      ],
      "execution_count": 3,
      "outputs": [
        {
          "output_type": "stream",
          "name": "stdout",
          "text": [
            "Imports completed successfully\n"
          ]
        }
      ]
    },
    {
      "cell_type": "code",
      "metadata": {
        "id": "A_yUaf9OHRRY",
        "outputId": "e074f70a-6cb2-4f58-a98c-789d9409b3b5",
        "colab": {
          "base_uri": "https://localhost:8080/"
        }
      },
      "source": [
        "# Data load\n",
        "\n",
        "url = 'https://raw.githubusercontent.com/djlittle/Homelessness_Clustering_Comparisons/master/Data/HMIS%20Data%20Extract.csv'\n",
        "\n",
        "dat = pd.read_csv(url) # Importing data\n",
        "\n",
        "print(dat.head())\n"
      ],
      "execution_count": 4,
      "outputs": [
        {
          "output_type": "stream",
          "name": "stdout",
          "text": [
            "   personalid  projecttype_1_bednights  projecttype_1_count  \\\n",
            "0         342                     91.0                  4.0   \n",
            "1         401                      2.0                  2.0   \n",
            "2         402                      NaN                  NaN   \n",
            "3         424                      5.0                  5.0   \n",
            "4         438                    220.0                199.0   \n",
            "\n",
            "   projecttype_2_count  projecttype_3_count  projecttype_4_count  \\\n",
            "0                  NaN                  NaN                  NaN   \n",
            "1                  NaN                  1.0                  NaN   \n",
            "2                  NaN                  NaN                  NaN   \n",
            "3                  NaN                  NaN                  NaN   \n",
            "4                  NaN                  NaN                  1.0   \n",
            "\n",
            "   projecttype_6_count  projecttype_7_count  projecttype_8_count  \\\n",
            "0                  NaN                  2.0                  NaN   \n",
            "1                  1.0                  1.0                  NaN   \n",
            "2                  NaN                  NaN                  NaN   \n",
            "3                  1.0                  NaN                  NaN   \n",
            "4                  2.0                  NaN                  NaN   \n",
            "\n",
            "   projecttype_10_count  projecttype_12_count  projecttype_13_count  \\\n",
            "0                   NaN                   NaN                   NaN   \n",
            "1                   NaN                   NaN                   NaN   \n",
            "2                   NaN                   NaN                   NaN   \n",
            "3                   NaN                   NaN                   NaN   \n",
            "4                   NaN                   NaN                   NaN   \n",
            "\n",
            "   projecttype_14_count  \n",
            "0                   2.0  \n",
            "1                   1.0  \n",
            "2                   1.0  \n",
            "3                   NaN  \n",
            "4                   NaN  \n"
          ]
        }
      ]
    },
    {
      "cell_type": "code",
      "metadata": {
        "id": "zBb3C5xGILlp",
        "outputId": "f9e97e56-fb31-4820-d70c-92295e00e8ff",
        "colab": {
          "base_uri": "https://localhost:8080/"
        }
      },
      "source": [
        "# Dataframe manipulation and nan handling\n",
        "\n",
        "processing_times = pd.DataFrame()  # For assessing each algorithm's processing times\n",
        "\n",
        "df = dat.iloc[:, 1:]\n",
        "df.fillna(0, inplace=True) # Filling null values of the data frame with -1. \n",
        "# Other approaches to null handling are also of interest here.\n",
        "\n",
        "print(df.head())"
      ],
      "execution_count": 5,
      "outputs": [
        {
          "output_type": "stream",
          "name": "stdout",
          "text": [
            "   projecttype_1_bednights  projecttype_1_count  projecttype_2_count  \\\n",
            "0                     91.0                  4.0                  0.0   \n",
            "1                      2.0                  2.0                  0.0   \n",
            "2                      0.0                  0.0                  0.0   \n",
            "3                      5.0                  5.0                  0.0   \n",
            "4                    220.0                199.0                  0.0   \n",
            "\n",
            "   projecttype_3_count  projecttype_4_count  projecttype_6_count  \\\n",
            "0                  0.0                  0.0                  0.0   \n",
            "1                  1.0                  0.0                  1.0   \n",
            "2                  0.0                  0.0                  0.0   \n",
            "3                  0.0                  0.0                  1.0   \n",
            "4                  0.0                  1.0                  2.0   \n",
            "\n",
            "   projecttype_7_count  projecttype_8_count  projecttype_10_count  \\\n",
            "0                  2.0                  0.0                   0.0   \n",
            "1                  1.0                  0.0                   0.0   \n",
            "2                  0.0                  0.0                   0.0   \n",
            "3                  0.0                  0.0                   0.0   \n",
            "4                  0.0                  0.0                   0.0   \n",
            "\n",
            "   projecttype_12_count  projecttype_13_count  projecttype_14_count  \n",
            "0                   0.0                   0.0                   2.0  \n",
            "1                   0.0                   0.0                   1.0  \n",
            "2                   0.0                   0.0                   1.0  \n",
            "3                   0.0                   0.0                   0.0  \n",
            "4                   0.0                   0.0                   0.0  \n"
          ]
        }
      ]
    },
    {
      "cell_type": "markdown",
      "metadata": {
        "id": "NY6TDZ_WJINF"
      },
      "source": [
        "---\n",
        "# Clustering Models Assessment\n",
        "\n",
        "This section is for the implementation of cluster algorithms. Here we implemented the KMEANS, DBSCAN, and BIRCH algorithms through the scikit package (linked above) for example. Our team settled on utilizing the BIRCH algorithm for our preliminary results. However, there are many options here worth exploring!\n",
        "\n",
        "<br>\n",
        "\n",
        "For more information on specific clustering approaches, please visit the following: \n",
        "\n",
        "https://scikit-learn.org/stable/modules/clustering.html#clustering\n"
      ]
    },
    {
      "cell_type": "code",
      "metadata": {
        "id": "XcTTRGKlI9Dy",
        "outputId": "f889250a-a40e-4c98-c6fc-a631f66e28a1",
        "colab": {
          "base_uri": "https://localhost:8080/"
        }
      },
      "source": [
        "# Kmeans \n",
        "\n",
        "from sklearn.cluster import KMeans\n",
        "\n",
        "start = time.time()\n",
        "kmeans = KMeans(n_clusters=10, verbose=True).fit(df) # Model fitting\n",
        "kmeans_labels = kmeans.labels_ + 1  # Label assignment\n",
        "end = time.time()\n",
        "\n",
        "processing_times['kmeans'] = [(end - start)] # Computing processing time\n",
        "\n",
        "dat['kmeans'] = kmeans_labels # Attaching labels to original dataframe\n",
        "\n",
        "print('Kmeans model complete')\n",
        "print('Processing time: '+ str(processing_times['kmeans'][0]) + ' seconds')"
      ],
      "execution_count": 7,
      "outputs": [
        {
          "output_type": "stream",
          "name": "stdout",
          "text": [
            "Initialization complete\n",
            "Iteration 0, inertia 2526314.0\n",
            "Iteration 1, inertia 2197030.2120344685\n",
            "Iteration 2, inertia 2184242.235044306\n",
            "Iteration 3, inertia 2177467.738026664\n",
            "Iteration 4, inertia 2172655.622837045\n",
            "Iteration 5, inertia 2169334.398677277\n",
            "Iteration 6, inertia 2165046.3724073614\n",
            "Iteration 7, inertia 2161704.0806040154\n",
            "Iteration 8, inertia 2159765.116731957\n",
            "Iteration 9, inertia 2157232.11299858\n",
            "Iteration 10, inertia 2153393.2025756203\n",
            "Iteration 11, inertia 2152357.570893515\n",
            "Iteration 12, inertia 2150999.4845831776\n",
            "Iteration 13, inertia 2148609.6451184144\n",
            "Iteration 14, inertia 2144479.8282357254\n",
            "Iteration 15, inertia 2143992.3493365273\n",
            "Iteration 16, inertia 2143719.1670572963\n",
            "Iteration 17, inertia 2143119.7052073395\n",
            "Iteration 18, inertia 2142866.9955402426\n",
            "Iteration 19, inertia 2142849.4502149723\n",
            "Converged at iteration 19: strict convergence.\n",
            "Initialization complete\n",
            "Iteration 0, inertia 2414227.0\n",
            "Iteration 1, inertia 2141905.598502027\n",
            "Iteration 2, inertia 2108206.3115337463\n",
            "Iteration 3, inertia 2083605.3426744943\n",
            "Iteration 4, inertia 1993367.0738108596\n",
            "Iteration 5, inertia 1912224.4120118022\n",
            "Iteration 6, inertia 1892901.1082540276\n",
            "Iteration 7, inertia 1884903.3931282102\n",
            "Iteration 8, inertia 1879069.891357224\n",
            "Iteration 9, inertia 1875470.555296807\n",
            "Iteration 10, inertia 1873547.9962523575\n",
            "Iteration 11, inertia 1871912.0572040624\n",
            "Iteration 12, inertia 1870253.6344643557\n",
            "Iteration 13, inertia 1867661.38348782\n",
            "Iteration 14, inertia 1866078.8055740527\n",
            "Iteration 15, inertia 1866061.4259451581\n",
            "Converged at iteration 15: strict convergence.\n",
            "Initialization complete\n",
            "Iteration 0, inertia 2288640.0\n",
            "Iteration 1, inertia 1969657.9274147146\n",
            "Iteration 2, inertia 1910883.4473320004\n",
            "Iteration 3, inertia 1888625.3603947693\n",
            "Iteration 4, inertia 1879331.888098016\n",
            "Iteration 5, inertia 1876771.3540799029\n",
            "Iteration 6, inertia 1874716.6546842796\n",
            "Iteration 7, inertia 1872621.3400636166\n",
            "Iteration 8, inertia 1871750.0020737143\n",
            "Iteration 9, inertia 1871669.4863990422\n",
            "Iteration 10, inertia 1871545.1364416096\n",
            "Iteration 11, inertia 1871449.6720344385\n",
            "Iteration 12, inertia 1871444.499579175\n",
            "Converged at iteration 12: strict convergence.\n",
            "Initialization complete\n",
            "Iteration 0, inertia 2825538.0\n",
            "Iteration 1, inertia 2050634.4988683986\n",
            "Iteration 2, inertia 1933526.6201220155\n",
            "Iteration 3, inertia 1887920.7654417574\n",
            "Iteration 4, inertia 1871703.2856752616\n",
            "Iteration 5, inertia 1865616.5003983437\n",
            "Iteration 6, inertia 1859126.4232688416\n",
            "Iteration 7, inertia 1855754.7274078194\n",
            "Iteration 8, inertia 1852791.2092621166\n",
            "Iteration 9, inertia 1851526.4666644277\n",
            "Iteration 10, inertia 1850398.6853638848\n",
            "Iteration 11, inertia 1849594.5807025167\n",
            "Iteration 12, inertia 1849240.368971568\n",
            "Converged at iteration 12: strict convergence.\n",
            "Initialization complete\n",
            "Iteration 0, inertia 2550379.0\n",
            "Iteration 1, inertia 1914025.6934164173\n",
            "Iteration 2, inertia 1860816.803131622\n",
            "Iteration 3, inertia 1845196.3639920985\n",
            "Iteration 4, inertia 1837100.3001215535\n",
            "Iteration 5, inertia 1832401.2409831965\n",
            "Iteration 6, inertia 1830130.2915553972\n",
            "Iteration 7, inertia 1828858.4775551178\n",
            "Iteration 8, inertia 1827366.7591305727\n",
            "Iteration 9, inertia 1827079.7706131847\n",
            "Iteration 10, inertia 1827022.6469125971\n",
            "Iteration 11, inertia 1826947.274743829\n",
            "Converged at iteration 11: strict convergence.\n",
            "Initialization complete\n",
            "Iteration 0, inertia 2489870.0\n",
            "Iteration 1, inertia 2064500.388023476\n",
            "Iteration 2, inertia 2010649.9811948887\n",
            "Iteration 3, inertia 1972531.7200267587\n",
            "Iteration 4, inertia 1932353.110637278\n",
            "Iteration 5, inertia 1890519.2276663713\n",
            "Iteration 6, inertia 1864322.8379691364\n",
            "Iteration 7, inertia 1846974.5174820216\n",
            "Iteration 8, inertia 1842220.4274867459\n",
            "Iteration 9, inertia 1839578.4094095312\n",
            "Iteration 10, inertia 1837600.0055805917\n",
            "Iteration 11, inertia 1836231.697034846\n",
            "Iteration 12, inertia 1835000.378610023\n",
            "Iteration 13, inertia 1833852.0453454223\n",
            "Iteration 14, inertia 1832425.9262313093\n",
            "Iteration 15, inertia 1831811.9597234624\n",
            "Iteration 16, inertia 1831799.7049323982\n",
            "Converged at iteration 16: strict convergence.\n",
            "Initialization complete\n",
            "Iteration 0, inertia 2501891.0\n",
            "Iteration 1, inertia 1974162.3118476947\n",
            "Iteration 2, inertia 1890576.1153156506\n",
            "Iteration 3, inertia 1848185.1726826965\n",
            "Iteration 4, inertia 1833715.4555412387\n",
            "Iteration 5, inertia 1829401.0002287456\n",
            "Iteration 6, inertia 1827919.387079277\n",
            "Iteration 7, inertia 1827270.0239273384\n",
            "Iteration 8, inertia 1827151.3004832575\n",
            "Iteration 9, inertia 1826644.60944446\n",
            "Iteration 10, inertia 1826554.0998493778\n",
            "Iteration 11, inertia 1826522.2818706508\n",
            "Iteration 12, inertia 1826465.592156827\n",
            "Iteration 13, inertia 1826390.2199880583\n",
            "Converged at iteration 13: strict convergence.\n",
            "Initialization complete\n",
            "Iteration 0, inertia 2385732.0\n",
            "Iteration 1, inertia 1916837.8575887824\n",
            "Iteration 2, inertia 1872272.602044495\n",
            "Iteration 3, inertia 1862457.6637012216\n",
            "Iteration 4, inertia 1857511.8525654431\n",
            "Iteration 5, inertia 1852833.413641713\n",
            "Iteration 6, inertia 1848635.5935650917\n",
            "Iteration 7, inertia 1847175.2264470314\n",
            "Iteration 8, inertia 1845181.5442444743\n",
            "Iteration 9, inertia 1844157.4337349716\n",
            "Iteration 10, inertia 1842086.587016061\n",
            "Iteration 11, inertia 1841496.0352109466\n",
            "Iteration 12, inertia 1841383.8906030615\n",
            "Iteration 13, inertia 1841293.969671027\n",
            "Converged at iteration 13: strict convergence.\n",
            "Initialization complete\n",
            "Iteration 0, inertia 2548890.0\n",
            "Iteration 1, inertia 1869293.7390498472\n",
            "Iteration 2, inertia 1847304.7274509203\n",
            "Iteration 3, inertia 1843892.1510412656\n",
            "Iteration 4, inertia 1842056.6399131406\n",
            "Iteration 5, inertia 1841307.5802321949\n",
            "Iteration 6, inertia 1841142.971829724\n",
            "Iteration 7, inertia 1841036.492242813\n",
            "Iteration 8, inertia 1840526.2323832875\n",
            "Iteration 9, inertia 1840417.6300654872\n",
            "Converged at iteration 9: center shift 0.0012983315196120739 within tolerance 0.017132684496567286.\n",
            "Initialization complete\n",
            "Iteration 0, inertia 2523204.0\n",
            "Iteration 1, inertia 2067646.6517221143\n",
            "Iteration 2, inertia 1990214.2817007627\n",
            "Iteration 3, inertia 1943447.4500470986\n",
            "Iteration 4, inertia 1911779.9714548374\n",
            "Iteration 5, inertia 1882987.6917871474\n",
            "Iteration 6, inertia 1865919.6663581491\n",
            "Iteration 7, inertia 1863450.832105206\n",
            "Iteration 8, inertia 1860024.6410177355\n",
            "Iteration 9, inertia 1857653.6485872446\n",
            "Iteration 10, inertia 1856161.8225149044\n",
            "Iteration 11, inertia 1852571.875668473\n",
            "Iteration 12, inertia 1851814.7405096602\n",
            "Iteration 13, inertia 1851432.2505080851\n",
            "Iteration 14, inertia 1851291.9355686225\n",
            "Iteration 15, inertia 1851252.684610156\n",
            "Converged at iteration 15: center shift 0.0006232582599725507 within tolerance 0.017132684496567286.\n",
            "Kmeans model complete\n",
            "Processing time: 3.594561815261841 seconds\n"
          ]
        }
      ]
    },
    {
      "cell_type": "code",
      "metadata": {
        "id": "XfYZK4q2KOIJ",
        "outputId": "5ae06e21-7ec4-43a8-96f2-2eeccb02d442",
        "colab": {
          "base_uri": "https://localhost:8080/"
        }
      },
      "source": [
        "# DBSCAN \n",
        "\n",
        "from sklearn.cluster import DBSCAN\n",
        "\n",
        "start = time.time()\n",
        "dbscan = DBSCAN(eps=2.5, min_samples=10).fit(df) # Model fitting\n",
        "dbscan_labels = dbscan.labels_ + 1 # Label assignment\n",
        "end = time.time()\n",
        "\n",
        "processing_times['dbscan'] = [(end - start)] # Computing processing time\n",
        "\n",
        "dat['dbscan'] = dbscan_labels # Attaching labels to original dataframe\n",
        "\n",
        "print('DBSCAN model complete')\n",
        "print('Processing time: '+ str(processing_times['dbscan'][0]) + ' seconds')\n"
      ],
      "execution_count": 10,
      "outputs": [
        {
          "output_type": "stream",
          "name": "stdout",
          "text": [
            "DBSCAN model complete\n",
            "Processing time: 16.886077165603638 seconds\n"
          ]
        }
      ]
    },
    {
      "cell_type": "code",
      "metadata": {
        "id": "78Bh_UkZiXDY",
        "outputId": "80a9a569-493b-448d-950b-5d1076e2a8e4",
        "colab": {
          "base_uri": "https://localhost:8080/"
        }
      },
      "source": [
        "# Birch algorithm\n",
        "\n",
        "from sklearn.cluster import Birch\n",
        "\n",
        "start = time.time()\n",
        "birch = Birch(branching_factor=1000, n_clusters=10, threshold=1.5).fit(df) # Model fitting\n",
        "birch_labels = birch.labels_+1 # Label assignment\n",
        "end = time.time()\n",
        "\n",
        "processing_times['birch'] = [(end - start)] # Computing processing time\n",
        "\n",
        "dat['birch'] = birch_labels # Attaching labels to original dataframe\n",
        "\n",
        "print('BIRCH model complete')\n",
        "print('Processing time: '+ str(processing_times['birch'][0]) + ' seconds')"
      ],
      "execution_count": 9,
      "outputs": [
        {
          "output_type": "stream",
          "name": "stdout",
          "text": [
            "BIRCH model complete\n",
            "Processing time: 2.2621164321899414 seconds\n"
          ]
        }
      ]
    },
    {
      "cell_type": "code",
      "metadata": {
        "id": "ZCtEQoNpQh-B",
        "outputId": "919e392c-6c77-4227-9a64-06d32a78279a",
        "colab": {
          "base_uri": "https://localhost:8080/"
        }
      },
      "source": [
        "# Comparing clusters\n",
        "\n",
        "print(processing_times) # Print of vector containing process times\n",
        "\n",
        "unique, counts = np.unique(kmeans_labels, return_counts=True) # Returning counts of each cluster \n",
        "kmeans_clusters = dict(zip(unique, counts)) # Organizing counts\n",
        "print(kmeans_clusters)  # Output to user \n",
        "\n",
        "unique, counts = np.unique(dbscan_labels, return_counts=True)\n",
        "dbscan_clusters = dict(zip(unique, counts))\n",
        "print(dbscan_clusters)\n",
        "\n",
        "unique, counts = np.unique(birch_labels, return_counts=True)\n",
        "birch_clusters = dict(zip(unique, counts))\n",
        "print(birch_clusters)"
      ],
      "execution_count": 11,
      "outputs": [
        {
          "output_type": "stream",
          "name": "stdout",
          "text": [
            "     kmeans     dbscan     birch\n",
            "0  3.594562  16.886077  2.262116\n",
            "{1: 95, 2: 22815, 3: 1082, 4: 244, 5: 1497, 6: 71, 7: 433, 8: 1112, 9: 1946, 10: 50}\n",
            "{0: 988, 1: 28104, 2: 17, 3: 15, 4: 103, 5: 31, 6: 19, 7: 35, 8: 10, 9: 11, 10: 12}\n",
            "{1: 2548, 2: 200, 3: 48, 4: 1234, 5: 37, 6: 24714, 7: 41, 8: 449, 9: 57, 10: 17}\n"
          ]
        }
      ]
    },
    {
      "cell_type": "markdown",
      "metadata": {
        "id": "XRnrmFguKAH2"
      },
      "source": [
        "---\n",
        "# Hyperparameter Optimization\n",
        "\n",
        "As a secondary task, build a framework that optimizes the parameters of any of the clustering algorithms implemented above. This can be done through grid search, random search, or even manually adjusting parameters on your own. For more information on hyperparameter optimization, please see the following: \n",
        "\n",
        "https://en.wikipedia.org/wiki/Hyperparameter_optimization\n",
        "\n",
        "The objective function to optimize for this project could be to maximize the cluster purity. See the following on assessing cluster purity: \n",
        "\n",
        "https://nlp.stanford.edu/IR-book/html/htmledition/evaluation-of-clustering-1.html\n",
        "\n",
        "However, other cluster evaluation metrics are possible. \n",
        "\n"
      ]
    },
    {
      "cell_type": "code",
      "metadata": {
        "id": "AEOFC6Fpyzk0"
      },
      "source": [
        "# Code block for hyperparameter optimization"
      ],
      "execution_count": null,
      "outputs": []
    },
    {
      "cell_type": "markdown",
      "metadata": {
        "id": "UQePZVGxFdMf"
      },
      "source": [
        "# Optimal Cluster Size Assessment\n",
        "\n",
        "Aside from assessing the purity of each cluster, how do we know what is the ideal number of \"K\" clusters to build our algorithm on? This section is for exploring just that. \n",
        "\n",
        "Here, we implemented the elbow method for identifying the optimal cluster size. However, there are many more methods to assess optimal number of clusters. See the following link for more information:\n",
        "\n",
        "https://en.wikipedia.org/wiki/Determining_the_number_of_clusters_in_a_data_set\n",
        "\n",
        "\n"
      ]
    },
    {
      "cell_type": "code",
      "metadata": {
        "id": "B92tW8GlOlh5",
        "outputId": "87347348-9655-4038-9230-6b1f2031bf50",
        "colab": {
          "base_uri": "https://localhost:8080/",
          "height": 1000
        }
      },
      "source": [
        "from matplotlib import pyplot as plt  # Import for graphing\n",
        "\n",
        "# Elbow method for assessing k number of clusters\n",
        "wcss = [] # Null dataframe to store sum of squared distances\n",
        "K = range(2, 50)  # Range to assess\n",
        "for k in K:\n",
        "    print(\"Beginning k = \" + str(k))\n",
        "    kmeans_k = KMeans(n_clusters=k).fit(df) # Fitting to k number of clusters\n",
        "    wcss.append(kmeans_k.inertia_) # Storing data\n",
        "\n",
        "# Elbow methog graphing\n",
        "plt.plot(K, wcss, 'bx-')\n",
        "plt.xlabel('k')\n",
        "plt.ylabel('Sum_of_squared_distances')\n",
        "plt.title('Elbow Method For Optimal k')\n",
        "plt.show()"
      ],
      "execution_count": 13,
      "outputs": [
        {
          "output_type": "stream",
          "name": "stdout",
          "text": [
            "Beginning k = 2\n",
            "Beginning k = 3\n",
            "Beginning k = 4\n",
            "Beginning k = 5\n",
            "Beginning k = 6\n",
            "Beginning k = 7\n",
            "Beginning k = 8\n",
            "Beginning k = 9\n",
            "Beginning k = 10\n",
            "Beginning k = 11\n",
            "Beginning k = 12\n",
            "Beginning k = 13\n",
            "Beginning k = 14\n",
            "Beginning k = 15\n",
            "Beginning k = 16\n",
            "Beginning k = 17\n",
            "Beginning k = 18\n",
            "Beginning k = 19\n",
            "Beginning k = 20\n",
            "Beginning k = 21\n",
            "Beginning k = 22\n",
            "Beginning k = 23\n",
            "Beginning k = 24\n",
            "Beginning k = 25\n",
            "Beginning k = 26\n",
            "Beginning k = 27\n",
            "Beginning k = 28\n",
            "Beginning k = 29\n",
            "Beginning k = 30\n",
            "Beginning k = 31\n",
            "Beginning k = 32\n",
            "Beginning k = 33\n",
            "Beginning k = 34\n",
            "Beginning k = 35\n",
            "Beginning k = 36\n",
            "Beginning k = 37\n",
            "Beginning k = 38\n",
            "Beginning k = 39\n",
            "Beginning k = 40\n",
            "Beginning k = 41\n",
            "Beginning k = 42\n",
            "Beginning k = 43\n",
            "Beginning k = 44\n",
            "Beginning k = 45\n",
            "Beginning k = 46\n",
            "Beginning k = 47\n",
            "Beginning k = 48\n",
            "Beginning k = 49\n"
          ]
        },
        {
          "output_type": "display_data",
          "data": {
            "text/plain": [
              "<Figure size 432x288 with 1 Axes>"
            ],
            "image/png": "[encoded data removed]"
          },
          "metadata": {
            "needs_background": "light"
          }
        }
      ]
    },
    {
      "cell_type": "markdown",
      "metadata": {
        "id": "buayPgdwPQ8i"
      },
      "source": [
        "---\n",
        "\n",
        "# Distance Metric Evaluation\n",
        "\n",
        "In general, clustering algorithms assess the similarity between objects by way of a distance metric. In 3D space, this is most commonly computed by way of the Euclidean distance. In 2D space we known this as Pythagoras' Theorem. However, does this work for every situation? What do we do when our data isn’t comprised of physical distance measurements? What do we do in situations where we have non-numeric categories? This section is designed to explore different distance metrics and the impact they have on cluster assignment.\n",
        "\n",
        "<br>\n",
        "\n",
        "Below are two identical implementations of a hierarchical clustering algorithm with one exception; the distance metric has been changed from Euclidean to Hamming distance. Your task is to implement other distance metrics of your choice and observe the changes in the resulting dendrograms. For this section, the hierarchical clustering routine and dendrogram were chosen for ease of visualization of the resulting cluster assignments. If you are unfamiliar with these techniques, please refer to the following: \n",
        "\n",
        "https://en.wikipedia.org/wiki/Hierarchical_clustering  \n",
        "\n",
        "https://ncss-wpengine.netdna-ssl.com/wp-content/themes/ncss/pdf/Procedures/NCSS/Hierarchical_Clustering-Dendrograms.pdf   \n",
        "\n",
        "<br>\n",
        "   \n",
        "Options for distance metrics in this specific package implementation are as follows: \n",
        "\n",
        "‘braycurtis’, ‘canberra’, ‘chebyshev’, ‘cityblock’, ‘correlation’, ‘cosine’, ‘dice’, ‘euclidean’, ‘hamming’, ‘jaccard’, ‘jensenshannon’, ‘kulsinski’, ‘mahalanobis’, ‘matching’, ‘minkowski’, ‘rogerstanimoto’, ‘russellrao’, ‘seuclidean’, ‘sokalmichener’, ‘sokalsneath’, ‘sqeuclidean’, ‘yule’\n",
        "\n",
        "<br>\n",
        "\n",
        "More detail on the computations of the above distances for the scipy package implementation can be found here: \n",
        "\n",
        "https://docs.scipy.org/doc/scipy/reference/generated/scipy.spatial.distance.pdist.html#scipy.spatial.distance.pdist\n",
        "\n",
        "<br>\n",
        "\n",
        "Please note that a random sample is performed to here simplify computations and visualizations.\n"
      ]
    },
    {
      "cell_type": "code",
      "metadata": {
        "id": "0y0KKGqjjLal"
      },
      "source": [
        "from scipy.cluster import hierarchy\n",
        "from matplotlib import pyplot as plt\n",
        "\n",
        "sample_size = 100 # Random sample of 100 points from original dataset\n",
        "\n",
        "df_sub = dat.iloc[:, 1:].sample(n=sample_size) # Sampling function\n",
        "df_sub.fillna(-1, inplace=True) # Null value handling same as above"
      ],
      "execution_count": 14,
      "outputs": []
    },
    {
      "cell_type": "code",
      "metadata": {
        "id": "sHUCoWggQAP8",
        "outputId": "aa39bb29-4246-4750-8218-ef328fdb66b2",
        "colab": {
          "base_uri": "https://localhost:8080/",
          "height": 495
        }
      },
      "source": [
        "# Euclidean Distance\n",
        "\n",
        "link_euclidean = hierarchy.linkage(df_sub, method='single', metric='euclidean')\n",
        "\n",
        "fig = plt.figure(figsize=(25, 10))\n",
        "dn = hierarchy.dendrogram(link_euclidean)\n",
        "plt.show()"
      ],
      "execution_count": 15,
      "outputs": [
        {
          "output_type": "display_data",
          "data": {
            "text/plain": [
              "<Figure size 1800x720 with 1 Axes>"
            ],
            "image/png": "[encoded data removed]"
          },
          "metadata": {
            "needs_background": "light"
          }
        }
      ]
    },
    {
      "cell_type": "code",
      "metadata": {
        "id": "RAP4VDh0lUd6",
        "outputId": "4b862ef8-04e9-4982-811e-3e77723badec",
        "colab": {
          "base_uri": "https://localhost:8080/",
          "height": 496
        }
      },
      "source": [
        "# Repeated call with Hamming distance instead\n",
        "\n",
        "link_hamming = hierarchy.linkage(df_sub, method='single', metric='hamming')\n",
        "\n",
        "fig = plt.figure(figsize=(25, 10))\n",
        "dn = hierarchy.dendrogram(link_hamming)\n",
        "plt.show()"
      ],
      "execution_count": 16,
      "outputs": [
        {
          "output_type": "display_data",
          "data": {
            "text/plain": [
              "<Figure size 1800x720 with 1 Axes>"
            ],
            "image/png": "[encoded data removed]"
          },
          "metadata": {
            "needs_background": "light"
          }
        }
      ]
    }
  ]
}