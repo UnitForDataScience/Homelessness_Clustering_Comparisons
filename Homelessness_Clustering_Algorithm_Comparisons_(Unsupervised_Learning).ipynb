{
  "nbformat": 4,
  "nbformat_minor": 0,
  "metadata": {
    "colab": {
      "name": "Homelessness Clustering Algorithm Comparisons (Unsupervised Learning).ipynb",
      "provenance": [],
      "collapsed_sections": [],
      "toc_visible": true,
      "include_colab_link": true
    },
    "kernelspec": {
      "name": "python3",
      "display_name": "Python 3"
    }
  },
  "cells": [
    {
      "cell_type": "markdown",
      "metadata": {
        "id": "view-in-github",
        "colab_type": "text"
      },
      "source": [
        "<a href=\"https://colab.research.google.com/github/UnitForDataScience/Homelessness_Clustering_Comparisons/blob/master/Homelessness_Clustering_Algorithm_Comparisons_(Unsupervised_Learning).ipynb\" target=\"_parent\"><img src=\"https://colab.research.google.com/assets/colab-badge.svg\" alt=\"Open In Colab\"/></a>"
      ]
    },
    {
      "cell_type": "markdown",
      "metadata": {
        "id": "pyqOVMcFD1W0",
        "colab_type": "text"
      },
      "source": [
        "# Introduction\n",
        "\n",
        "OBJECTIVE:\n",
        "\n",
        "This project consists of 4 distinct tasks revolving around a dataset tracking the services used by homeless people in Maricopa county, Arizona. The overarching objective was to design a risk model that assessed the likelihood of people falling back into homelessness after utilizing certain services. An essential component of this was to identify natural clusters of usage patterns within the data. This allowed us to observe how distinct groups of people flowed through the system and to identify success stories within the data. While our team settled on the BIRCH algorithm, we are interested in identifying other clustering algorithms that may be more efficient or may tell us an interesting story from the data. We are interested in any approach identified.\n",
        "\n",
        "The tasks of this project are as follows: \n",
        "\n",
        "1.   Compare the performance and output of various clustering algorithms \n",
        "2.   Implementation of hyperparameter optimization of any clustering algorithm of choice\n",
        "3.   Identify an optimal number of clusters\n",
        "4.   Assess different distance metrics for computing similarity\n",
        "\n",
        "<br>\n",
        "\n",
        "For more information on the fundamentals of data clustering, please see the following hyperlink:\n",
        "\n",
        "https://en.wikipedia.org/wiki/Cluster_analysis\n",
        "\n",
        "<br>\n",
        "\n",
        "Please note that the code snippets in the \"Data Import and Initialization\" section must be executed before any subsequent section can be run.\n",
        "\n",
        "---\n"
      ]
    },
    {
      "cell_type": "markdown",
      "metadata": {
        "id": "GHGcQ6DEI1Xc",
        "colab_type": "text"
      },
      "source": [
        "# Data Import and Initialization\n",
        "\n",
        "DATA DESCRIPTION: \n",
        "\n",
        "Data is comprised of usage statistics of a majority of homeless service in Maricopa County, AZ from January 1st, 2014 to December 30th, 2018. Each row represents a unique person (identified by the first column, \"personalid\") and captures their total usage of each service within the aforementioned timeframe. The only exception is the second column labeled \"projecttype_1_bednights\", which captures the total number of nights spent in project type 1 only. Please click the following hyperlink to see the data in its raw form: \n",
        "\n",
        "https://raw.githubusercontent.com/djlittle/Homelessness_Clustering_Comparisons/master/Data/HMIS%20Data%20Extract.csv\n"
      ]
    },
    {
      "cell_type": "code",
      "metadata": {
        "id": "mt6rgwY3QIjw",
        "colab_type": "code",
        "outputId": "fdeb4981-e36b-4e9e-db28-686c29f34a40",
        "colab": {
          "base_uri": "https://localhost:8080/",
          "height": 34
        }
      },
      "source": [
        "# General package imports\n",
        "\n",
        "import pandas as pd\n",
        "import numpy as np\n",
        "import time\n",
        "\n",
        "print('Imports completed successfully')"
      ],
      "execution_count": 0,
      "outputs": [
        {
          "output_type": "stream",
          "text": [
            "Imports completed successfully\n"
          ],
          "name": "stdout"
        }
      ]
    },
    {
      "cell_type": "code",
      "metadata": {
        "id": "A_yUaf9OHRRY",
        "colab_type": "code",
        "outputId": "a96a7dc0-d901-41a5-b931-9abd1408067d",
        "colab": {
          "base_uri": "https://localhost:8080/",
          "height": 153
        }
      },
      "source": [
        "# Data load\n",
        "\n",
        "url = 'https://raw.githubusercontent.com/djlittle/Homelessness_Clustering_Comparisons/master/Data/HMIS%20Data%20Extract.csv'\n",
        "\n",
        "dat = pd.read_csv(url) # Importing data\n",
        "\n",
        "print(dat.head())\n"
      ],
      "execution_count": 0,
      "outputs": [
        {
          "output_type": "stream",
          "text": [
            "   personalid  ...  projecttype_14_count\n",
            "0         342  ...                   2.0\n",
            "1         401  ...                   1.0\n",
            "2         402  ...                   1.0\n",
            "3         424  ...                   NaN\n",
            "4         438  ...                   NaN\n",
            "\n",
            "[5 rows x 13 columns]\n"
          ],
          "name": "stdout"
        }
      ]
    },
    {
      "cell_type": "code",
      "metadata": {
        "id": "zBb3C5xGILlp",
        "colab_type": "code",
        "outputId": "c7cf2d9a-0497-44d5-ecd0-3cc1d613b832",
        "colab": {
          "base_uri": "https://localhost:8080/",
          "height": 153
        }
      },
      "source": [
        "# Dataframe manipulation and nan handling\n",
        "\n",
        "processing_times = pd.DataFrame()  # For assessing each algorithm's processing times\n",
        "\n",
        "df = dat.iloc[:, 1:]\n",
        "df.fillna(-1, inplace=True) # Filling null values of the data frame with -1. \n",
        "# Other approaches to null handling are also of interest here.\n",
        "\n",
        "print(df.head())"
      ],
      "execution_count": 0,
      "outputs": [
        {
          "output_type": "stream",
          "text": [
            "   projecttype_1_bednights  ...  projecttype_14_count\n",
            "0                     91.0  ...                   2.0\n",
            "1                      2.0  ...                   1.0\n",
            "2                     -1.0  ...                   1.0\n",
            "3                      5.0  ...                  -1.0\n",
            "4                    220.0  ...                  -1.0\n",
            "\n",
            "[5 rows x 12 columns]\n"
          ],
          "name": "stdout"
        }
      ]
    },
    {
      "cell_type": "markdown",
      "metadata": {
        "id": "NY6TDZ_WJINF",
        "colab_type": "text"
      },
      "source": [
        "---\n",
        "# Clustering Models Assessment\n",
        "\n",
        "This section is for the implementation of cluster algorithms. Here we implemented the KMEANS, DBSCAN, and BIRCH algorithms through the scikit package (linked above) for example. Our team settled on utilizing the BIRCH algorithm for our preliminary results. However, there are many options here worth exploring!\n",
        "\n",
        "<br>\n",
        "\n",
        "For more information on specific clustering approaches, please visit the following: \n",
        "\n",
        "https://scikit-learn.org/stable/modules/clustering.html#clustering\n"
      ]
    },
    {
      "cell_type": "code",
      "metadata": {
        "id": "XcTTRGKlI9Dy",
        "colab_type": "code",
        "outputId": "e32bdaec-7e97-4a33-e557-57f90b3c1d28",
        "colab": {
          "base_uri": "https://localhost:8080/",
          "height": 51
        }
      },
      "source": [
        "# Kmeans \n",
        "\n",
        "from sklearn.cluster import KMeans\n",
        "\n",
        "start = time.time()\n",
        "kmeans = KMeans(n_clusters=10, verbose=True, n_jobs=-1).fit(df) # Model fitting\n",
        "kmeans_labels = kmeans.labels_ + 1  # Label assignment\n",
        "end = time.time()\n",
        "\n",
        "processing_times['kmeans'] = [(end - start)] # Computing processing time\n",
        "\n",
        "dat['kmeans'] = kmeans_labels # Attaching labels to original dataframe\n",
        "\n",
        "print('Kmeans model complete')\n",
        "print('Processing time: '+ str(processing_times['kmeans'][0]) + ' seconds')"
      ],
      "execution_count": 0,
      "outputs": [
        {
          "output_type": "stream",
          "text": [
            "Kmeans model complete\n",
            "Processing time: 2.7222673892974854 seconds\n"
          ],
          "name": "stdout"
        }
      ]
    },
    {
      "cell_type": "code",
      "metadata": {
        "id": "XfYZK4q2KOIJ",
        "colab_type": "code",
        "outputId": "97c374e9-db52-47e3-814d-eb6b4d82fd4b",
        "colab": {
          "base_uri": "https://localhost:8080/",
          "height": 51
        }
      },
      "source": [
        "# DBSCAN \n",
        "\n",
        "from sklearn.cluster import DBSCAN\n",
        "\n",
        "start = time.time()\n",
        "dbscan = DBSCAN(eps=2.5, min_samples=10, n_jobs=-1).fit(df) # Model fitting\n",
        "dbscan_labels = dbscan.labels_ + 1 # Label assignment\n",
        "end = time.time()\n",
        "\n",
        "processing_times['dbscan'] = [(end - start)] # Computing processing time\n",
        "\n",
        "dat['dbscan'] = dbscan_labels # Attaching labels to original dataframe\n",
        "\n",
        "print('DBSCAN model complete')\n",
        "print('Processing time: '+ str(processing_times['dbscan'][0]) + ' seconds')\n"
      ],
      "execution_count": 0,
      "outputs": [
        {
          "output_type": "stream",
          "text": [
            "DBSCAN model complete\n",
            "Processing time: 14.150252342224121 seconds\n"
          ],
          "name": "stdout"
        }
      ]
    },
    {
      "cell_type": "code",
      "metadata": {
        "id": "78Bh_UkZiXDY",
        "colab_type": "code",
        "outputId": "3a41ff1d-5327-4b77-e7da-4a4060e36ce8",
        "colab": {
          "base_uri": "https://localhost:8080/",
          "height": 51
        }
      },
      "source": [
        "# Birch algorithm\n",
        "\n",
        "from sklearn.cluster import Birch\n",
        "\n",
        "start = time.time()\n",
        "birch = Birch(branching_factor=1000, n_clusters=10, threshold=1.5).fit(df) # Model fitting\n",
        "birch_labels = birch.labels_+1 # Label assignment\n",
        "end = time.time()\n",
        "\n",
        "processing_times['birch'] = [(end - start)] # Computing processing time\n",
        "\n",
        "dat['birch'] = birch_labelss # Attaching labels to original dataframe\n",
        "\n",
        "print('BIRCH model complete')\n",
        "print('Processing time: '+ str(processing_times['birch'][0]) + ' seconds')"
      ],
      "execution_count": 0,
      "outputs": [
        {
          "output_type": "stream",
          "text": [
            "BIRCH model complete\n",
            "Processing time: 2.5950098037719727 seconds\n"
          ],
          "name": "stdout"
        }
      ]
    },
    {
      "cell_type": "code",
      "metadata": {
        "id": "ZCtEQoNpQh-B",
        "colab_type": "code",
        "outputId": "caef84c0-ad6e-4232-90f6-b9ed12076a18",
        "colab": {
          "base_uri": "https://localhost:8080/",
          "height": 102
        }
      },
      "source": [
        "# Comparing clusters\n",
        "\n",
        "print(processing_times) # Print of vector containing process times\n",
        "\n",
        "unique, counts = np.unique(kmeans_labels, return_counts=True) # Returning counts of each cluster \n",
        "kmeans_clusters = dict(zip(unique, counts)) # Organizing counts\n",
        "print(kmeans_clusters)  # Output to user \n",
        "\n",
        "unique, counts = np.unique(dbscan_labels, return_counts=True)\n",
        "dbscan_clusters = dict(zip(unique, counts))\n",
        "print(dbscan_clusters)\n",
        "\n",
        "unique, counts = np.unique(birch_labels, return_counts=True)\n",
        "birch_clusters = dict(zip(unique, counts))\n",
        "print(birch_clusters)"
      ],
      "execution_count": 0,
      "outputs": [
        {
          "output_type": "stream",
          "text": [
            "     kmeans     dbscan     birch\n",
            "0  2.450941  11.435936  2.551423\n",
            "{1: 22788, 2: 1134, 3: 134, 4: 1510, 5: 41, 6: 60, 7: 2022, 8: 430, 9: 1113, 10: 113}\n",
            "{0: 1653, 1: 7991, 2: 19508, 3: 26, 4: 29, 5: 56, 6: 11, 7: 11, 8: 19, 9: 10, 10: 11, 11: 10, 12: 10}\n",
            "{1: 54, 2: 1676, 3: 375, 4: 1878, 5: 222, 6: 24453, 7: 48, 8: 547, 9: 41, 10: 51}\n"
          ],
          "name": "stdout"
        }
      ]
    },
    {
      "cell_type": "markdown",
      "metadata": {
        "id": "XRnrmFguKAH2",
        "colab_type": "text"
      },
      "source": [
        "---\n",
        "# Hyperparameter Optimization\n",
        "\n",
        "As a secondary task, build a framework that optimizes the parameters of any of the clustering algorithms implemented above. This can be done through grid search, random search, or even manually adjusting parameters on your own. For more information on hyperparameter optimization, please see the following: \n",
        "\n",
        "https://en.wikipedia.org/wiki/Hyperparameter_optimization\n",
        "\n",
        "The objective function to optimize for this project could be to maximize the cluster purity. See the following on assessing cluster purity: \n",
        "\n",
        "https://nlp.stanford.edu/IR-book/html/htmledition/evaluation-of-clustering-1.html\n",
        "\n",
        "However, other cluster evaluation metrics are possible. \n",
        "\n"
      ]
    },
    {
      "cell_type": "code",
      "metadata": {
        "colab_type": "code",
        "id": "AEOFC6Fpyzk0",
        "colab": {}
      },
      "source": [
        "# Code block for hyperparameter optimization"
      ],
      "execution_count": 0,
      "outputs": []
    },
    {
      "cell_type": "markdown",
      "metadata": {
        "id": "UQePZVGxFdMf",
        "colab_type": "text"
      },
      "source": [
        "# Optimal Cluster Size Assessment\n",
        "\n",
        "Aside from assessing the purity of each cluster, how do we know what is the ideal number of \"K\" clusters to build our algorithm on? This section is for exploring just that. \n",
        "\n",
        "Here, we implemented the elbow method for identifying the optimal cluster size. However, there are many more methods to assess optimal number of clusters. See the following link for more information:\n",
        "\n",
        "https://en.wikipedia.org/wiki/Determining_the_number_of_clusters_in_a_data_set\n",
        "\n",
        "\n"
      ]
    },
    {
      "cell_type": "code",
      "metadata": {
        "id": "B92tW8GlOlh5",
        "colab_type": "code",
        "outputId": "39bf1a82-2af3-4881-ff6b-525beb66d6ce",
        "colab": {
          "base_uri": "https://localhost:8080/",
          "height": 1000
        }
      },
      "source": [
        "from matplotlib import pyplot as plt  # Import for graphing\n",
        "\n",
        "# Elbow method for assessing k number of clusters\n",
        "wcss = [] # Null dataframe to store sum of squared distances\n",
        "K = range(2, 50)  # Range to assess\n",
        "for k in K:\n",
        "    print(\"Beginning k = \" + str(k))\n",
        "    kmeans_k = KMeans(n_clusters=k, n_jobs=None).fit(df) # Fitting to k number of clusters\n",
        "    wcss.append(kmeans_k.inertia_) # Storing data\n",
        "\n",
        "# Elbow methog graphing\n",
        "plt.plot(K, wcss, 'bx-')\n",
        "plt.xlabel('k')\n",
        "plt.ylabel('Sum_of_squared_distances')\n",
        "plt.title('Elbow Method For Optimal k')\n",
        "plt.show()"
      ],
      "execution_count": 0,
      "outputs": [
        {
          "output_type": "stream",
          "text": [
            "Beginning k = 2\n",
            "Beginning k = 3\n",
            "Beginning k = 4\n",
            "Beginning k = 5\n",
            "Beginning k = 6\n",
            "Beginning k = 7\n",
            "Beginning k = 8\n",
            "Beginning k = 9\n",
            "Beginning k = 10\n",
            "Beginning k = 11\n",
            "Beginning k = 12\n",
            "Beginning k = 13\n",
            "Beginning k = 14\n",
            "Beginning k = 15\n",
            "Beginning k = 16\n",
            "Beginning k = 17\n",
            "Beginning k = 18\n",
            "Beginning k = 19\n",
            "Beginning k = 20\n",
            "Beginning k = 21\n",
            "Beginning k = 22\n",
            "Beginning k = 23\n",
            "Beginning k = 24\n",
            "Beginning k = 25\n",
            "Beginning k = 26\n",
            "Beginning k = 27\n",
            "Beginning k = 28\n",
            "Beginning k = 29\n",
            "Beginning k = 30\n",
            "Beginning k = 31\n",
            "Beginning k = 32\n",
            "Beginning k = 33\n",
            "Beginning k = 34\n",
            "Beginning k = 35\n",
            "Beginning k = 36\n",
            "Beginning k = 37\n",
            "Beginning k = 38\n",
            "Beginning k = 39\n",
            "Beginning k = 40\n",
            "Beginning k = 41\n",
            "Beginning k = 42\n",
            "Beginning k = 43\n",
            "Beginning k = 44\n",
            "Beginning k = 45\n",
            "Beginning k = 46\n",
            "Beginning k = 47\n",
            "Beginning k = 48\n",
            "Beginning k = 49\n"
          ],
          "name": "stdout"
        },
        {
          "output_type": "display_data",
          "data": {
            "image/png": "[encoded data removed]",
            "text/plain": [
              "<Figure size 432x288 with 1 Axes>"
            ]
          },
          "metadata": {
            "tags": []
          }
        }
      ]
    },
    {
      "cell_type": "markdown",
      "metadata": {
        "id": "buayPgdwPQ8i",
        "colab_type": "text"
      },
      "source": [
        "---\n",
        "\n",
        "# Distance Metric Evaluation\n",
        "\n",
        "In general, clustering algorithms assess the similarity between objects by way of a distance metric. In 3D space, this is most commonly computed by way of the Euclidean distance. In 2D space we known this as Pythagoras' Theorem. However, does this work for every situation? What do we do when our data isn’t comprised of physical distance measurements? What do we do in situations where we have non-numeric categories? This section is designed to explore different distance metrics and the impact they have on cluster assignment.\n",
        "\n",
        "<br>\n",
        "\n",
        "Below are two identical implementations of a hierarchical clustering algorithm with one exception; the distance metric has been changed from Euclidean to Hamming distance. Your task is to implement other distance metrics of your choice and observe the changes in the resulting dendrograms. For this section, the hierarchical clustering routine and dendrogram were chosen for ease of visualization of the resulting cluster assignments. If you are unfamiliar with these techniques, please refer to the following: \n",
        "\n",
        "https://en.wikipedia.org/wiki/Hierarchical_clustering  \n",
        "\n",
        "https://ncss-wpengine.netdna-ssl.com/wp-content/themes/ncss/pdf/Procedures/NCSS/Hierarchical_Clustering-Dendrograms.pdf   \n",
        "\n",
        "<br>\n",
        "   \n",
        "Options for distance metrics in this specific package implementation are as follows: \n",
        "\n",
        "‘braycurtis’, ‘canberra’, ‘chebyshev’, ‘cityblock’, ‘correlation’, ‘cosine’, ‘dice’, ‘euclidean’, ‘hamming’, ‘jaccard’, ‘jensenshannon’, ‘kulsinski’, ‘mahalanobis’, ‘matching’, ‘minkowski’, ‘rogerstanimoto’, ‘russellrao’, ‘seuclidean’, ‘sokalmichener’, ‘sokalsneath’, ‘sqeuclidean’, ‘yule’\n",
        "\n",
        "<br>\n",
        "\n",
        "More detail on the computations of the above distances for the scipy package implementation can be found here: \n",
        "\n",
        "https://docs.scipy.org/doc/scipy/reference/generated/scipy.spatial.distance.pdist.html#scipy.spatial.distance.pdist\n",
        "\n",
        "<br>\n",
        "\n",
        "Please note that a random sample is performed to here simplify computations and visualizations.\n"
      ]
    },
    {
      "cell_type": "code",
      "metadata": {
        "id": "0y0KKGqjjLal",
        "colab_type": "code",
        "colab": {}
      },
      "source": [
        "from scipy.cluster import hierarchy\n",
        "from matplotlib import pyplot as plt\n",
        "\n",
        "sample_size = 100 # Random sample of 100 points from original dataset\n",
        "\n",
        "df_sub = dat.iloc[:, 1:].sample(n=sample_size) # Sampling function\n",
        "df_sub.fillna(-1, inplace=True) # Null value handling same as above"
      ],
      "execution_count": 0,
      "outputs": []
    },
    {
      "cell_type": "code",
      "metadata": {
        "id": "sHUCoWggQAP8",
        "colab_type": "code",
        "outputId": "cc0e99fc-aeb8-420c-980c-7ab122c15cb4",
        "colab": {
          "base_uri": "https://localhost:8080/",
          "height": 588
        }
      },
      "source": [
        "# Euclidean Distance\n",
        "\n",
        "link_euclidean = hierarchy.linkage(df_sub, method='single', metric='euclidean')\n",
        "\n",
        "fig = plt.figure(figsize=(25, 10))\n",
        "dn = hierarchy.dendrogram(link_euclidean)\n",
        "plt.show()"
      ],
      "execution_count": 0,
      "outputs": [
        {
          "output_type": "display_data",
          "data": {
            "image/png": "[encoded data removed]",
            "text/plain": [
              "<Figure size 1800x720 with 1 Axes>"
            ]
          },
          "metadata": {
            "tags": []
          }
        }
      ]
    },
    {
      "cell_type": "code",
      "metadata": {
        "id": "RAP4VDh0lUd6",
        "colab_type": "code",
        "outputId": "f885bee5-8d4b-4164-d8d0-a28f1269272d",
        "colab": {
          "base_uri": "https://localhost:8080/",
          "height": 592
        }
      },
      "source": [
        "# Repeated call with Hamming distance instead\n",
        "\n",
        "link_hamming = hierarchy.linkage(df_sub, method='single', metric='hamming')\n",
        "\n",
        "fig = plt.figure(figsize=(25, 10))\n",
        "dn = hierarchy.dendrogram(link_hamming)\n",
        "plt.show()"
      ],
      "execution_count": 0,
      "outputs": [
        {
          "output_type": "display_data",
          "data": {
            "image/png": "[encoded data removed]",
            "text/plain": [
              "<Figure size 1800x720 with 1 Axes>"
            ]
          },
          "metadata": {
            "tags": []
          }
        }
      ]
    }
  ]
}