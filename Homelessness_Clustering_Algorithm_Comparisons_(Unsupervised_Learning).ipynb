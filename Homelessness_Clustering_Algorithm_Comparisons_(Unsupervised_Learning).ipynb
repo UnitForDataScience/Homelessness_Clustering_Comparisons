{
  "nbformat": 4,
  "nbformat_minor": 0,
  "metadata": {
    "colab": {
      "name": "Homelessness Clustering Algorithm Comparisons (Unsupervised Learning).ipynb",
      "provenance": [],
      "include_colab_link": true
    },
    "kernelspec": {
      "name": "python3",
      "display_name": "Python 3"
    }
  },
  "cells": [
    {
      "cell_type": "markdown",
      "metadata": {
        "id": "view-in-github",
        "colab_type": "text"
      },
      "source": [
        "<a href=\"https://colab.research.google.com/github/djlittle/Homelessness_Clustering_Comparisons/blob/master/Homelessness_Clustering_Algorithm_Comparisons_(Unsupervised_Learning).ipynb\" target=\"_parent\"><img src=\"https://colab.research.google.com/assets/colab-badge.svg\" alt=\"Open In Colab\"/></a>"
      ]
    },
    {
      "cell_type": "code",
      "metadata": {
        "id": "mt6rgwY3QIjw",
        "colab_type": "code",
        "colab": {}
      },
      "source": [
        "import pandas as pd\n"
      ],
      "execution_count": 0,
      "outputs": []
    },
    {
      "cell_type": "code",
      "metadata": {
        "id": "78Bh_UkZiXDY",
        "colab_type": "code",
        "colab": {}
      },
      "source": [
        "from sklearn.cluster import Birch\n",
        "\n",
        "df = pd.read_csv('HMIS Data Extract.csv')\n",
        "\n",
        "birch = Birch(branching_factor=1000, n_clusters=10, threshold=1.5).fit(df)\n",
        "birch_labels = birch.labels_+1\n",
        "\n",
        "dat['birch'] = birch_labels"
      ],
      "execution_count": 0,
      "outputs": []
    }
  ]
}