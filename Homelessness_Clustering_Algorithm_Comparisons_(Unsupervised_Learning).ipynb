{
  "nbformat": 4,
  "nbformat_minor": 0,
  "metadata": {
    "colab": {
      "name": "Homelessness Clustering Algorithm Comparisons (Unsupervised Learning).ipynb",
      "provenance": [],
      "toc_visible": true,
      "include_colab_link": true
    },
    "kernelspec": {
      "name": "python3",
      "display_name": "Python 3"
    }
  },
  "cells": [
    {
      "cell_type": "markdown",
      "metadata": {
        "id": "view-in-github",
        "colab_type": "text"
      },
      "source": [
        "<a href=\"https://colab.research.google.com/github/UnitForDataScience/Homelessness_Clustering_Comparisons/blob/master/Homelessness_Clustering_Algorithm_Comparisons_(Unsupervised_Learning).ipynb\" target=\"_parent\"><img src=\"https://colab.research.google.com/assets/colab-badge.svg\" alt=\"Open In Colab\"/></a>"
      ]
    },
    {
      "cell_type": "markdown",
      "metadata": {
        "id": "pyqOVMcFD1W0",
        "colab_type": "text"
      },
      "source": [
        "# Introduction\n",
        "\n",
        "OBJECTIVE"
      ]
    },
    {
      "cell_type": "code",
      "metadata": {
        "id": "mt6rgwY3QIjw",
        "colab_type": "code",
        "outputId": "2ba5507d-ab48-4eff-887f-4874b7c61592",
        "colab": {
          "base_uri": "https://localhost:8080/",
          "height": 34
        }
      },
      "source": [
        "import pandas as pd\n",
        "import numpy as np\n",
        "import time\n",
        "\n",
        "print('Imports completed successfully')"
      ],
      "execution_count": 1,
      "outputs": [
        {
          "output_type": "stream",
          "text": [
            "Imports completed successfully\n"
          ],
          "name": "stdout"
        }
      ]
    },
    {
      "cell_type": "markdown",
      "metadata": {
        "id": "GHGcQ6DEI1Xc",
        "colab_type": "text"
      },
      "source": [
        "# Data Import\n",
        "\n",
        "DATA DESCRIPTION"
      ]
    },
    {
      "cell_type": "code",
      "metadata": {
        "id": "A_yUaf9OHRRY",
        "colab_type": "code",
        "outputId": "80227128-3a58-4822-c95a-ab0d8f71167b",
        "colab": {
          "base_uri": "https://localhost:8080/",
          "height": 157
        }
      },
      "source": [
        "# Data load\n",
        "\n",
        "url = 'https://raw.githubusercontent.com/djlittle/Homelessness_Clustering_Comparisons/master/Data/HMIS%20Data%20Extract.csv'\n",
        "\n",
        "dat = pd.read_csv(url)\n",
        "\n",
        "print(dat.head())\n"
      ],
      "execution_count": 2,
      "outputs": [
        {
          "output_type": "stream",
          "text": [
            "   personalid  ...  projecttype_14_count\n",
            "0         342  ...                   2.0\n",
            "1         401  ...                   1.0\n",
            "2         402  ...                   1.0\n",
            "3         424  ...                   NaN\n",
            "4         438  ...                   NaN\n",
            "\n",
            "[5 rows x 13 columns]\n"
          ],
          "name": "stdout"
        }
      ]
    },
    {
      "cell_type": "code",
      "metadata": {
        "id": "zBb3C5xGILlp",
        "colab_type": "code",
        "colab": {
          "base_uri": "https://localhost:8080/",
          "height": 157
        },
        "outputId": "afaa7548-aff0-45c7-f1de-b5689e6c3d15"
      },
      "source": [
        "# Dataframe manipulation and nan handling\n",
        "\n",
        "processing_times = pd.DataFrame()  # For assessing each algorithm's processing times\n",
        "\n",
        "df = dat.iloc[:, 1:]\n",
        "df.fillna(-1, inplace=True)\n",
        "\n",
        "print(df.head())"
      ],
      "execution_count": 3,
      "outputs": [
        {
          "output_type": "stream",
          "text": [
            "   projecttype_1_bednights  ...  projecttype_14_count\n",
            "0                     91.0  ...                   2.0\n",
            "1                      2.0  ...                   1.0\n",
            "2                     -1.0  ...                   1.0\n",
            "3                      5.0  ...                  -1.0\n",
            "4                    220.0  ...                  -1.0\n",
            "\n",
            "[5 rows x 12 columns]\n"
          ],
          "name": "stdout"
        }
      ]
    },
    {
      "cell_type": "markdown",
      "metadata": {
        "id": "NY6TDZ_WJINF",
        "colab_type": "text"
      },
      "source": [
        "# KMEANS Model"
      ]
    },
    {
      "cell_type": "code",
      "metadata": {
        "id": "XcTTRGKlI9Dy",
        "colab_type": "code",
        "outputId": "467022d1-5da5-4e7a-c798-4148d24901e7",
        "colab": {
          "base_uri": "https://localhost:8080/",
          "height": 52
        }
      },
      "source": [
        "# Kmeans \n",
        "\n",
        "from sklearn.cluster import KMeans\n",
        "\n",
        "start = time.time()\n",
        "kmeans = KMeans(n_clusters=10, verbose=True, n_jobs=-1).fit(df)\n",
        "kmeans_labels = kmeans.labels_ + 1\n",
        "end = time.time()\n",
        "\n",
        "processing_times['kmeans'] = [(end - start)]\n",
        "\n",
        "dat['kmeans'] = kmeans_labels\n",
        "\n",
        "print('Kmeans model complete')\n",
        "print('Processing time: '+ str(processing_times['kmeans'][0]) + ' seconds')"
      ],
      "execution_count": 4,
      "outputs": [
        {
          "output_type": "stream",
          "text": [
            "Kmeans model complete\n",
            "Processing time: 2.4509408473968506 seconds\n"
          ],
          "name": "stdout"
        }
      ]
    },
    {
      "cell_type": "markdown",
      "metadata": {
        "id": "Vo1bDYbDJO_E",
        "colab_type": "text"
      },
      "source": [
        "# DBSCAN Model"
      ]
    },
    {
      "cell_type": "code",
      "metadata": {
        "id": "XfYZK4q2KOIJ",
        "colab_type": "code",
        "outputId": "44776637-4501-4dab-a294-81db33714819",
        "colab": {
          "base_uri": "https://localhost:8080/",
          "height": 52
        }
      },
      "source": [
        "# DBSCAN \n",
        "\n",
        "from sklearn.cluster import DBSCAN\n",
        "\n",
        "start = time.time()\n",
        "dbscan = DBSCAN(eps=2.5, min_samples=10, n_jobs=-1).fit(df)\n",
        "dbscan_labels = dbscan.labels_ + 1\n",
        "end = time.time()\n",
        "\n",
        "processing_times['dbscan'] = [(end - start)]\n",
        "\n",
        "dat['dbscan'] = dbscan_labels\n",
        "\n",
        "print('DBSCAN model complete')\n",
        "print('Processing time: '+ str(processing_times['dbscan'][0]) + ' seconds')\n"
      ],
      "execution_count": 5,
      "outputs": [
        {
          "output_type": "stream",
          "text": [
            "DBSCAN model complete\n",
            "Processing time: 11.435936450958252 seconds\n"
          ],
          "name": "stdout"
        }
      ]
    },
    {
      "cell_type": "markdown",
      "metadata": {
        "id": "NpdOKtSeJULM",
        "colab_type": "text"
      },
      "source": [
        "# BIRCH Model"
      ]
    },
    {
      "cell_type": "code",
      "metadata": {
        "id": "78Bh_UkZiXDY",
        "colab_type": "code",
        "outputId": "7c2c3f0f-c410-441d-d9ac-aa3142bd9a66",
        "colab": {
          "base_uri": "https://localhost:8080/",
          "height": 52
        }
      },
      "source": [
        "# Birch algorithm\n",
        "\n",
        "from sklearn.cluster import Birch\n",
        "\n",
        "start = time.time()\n",
        "birch = Birch(branching_factor=1000, n_clusters=10, threshold=1.5).fit(df)\n",
        "birch_labels = birch.labels_+1\n",
        "end = time.time()\n",
        "\n",
        "processing_times['birch'] = [(end - start)]\n",
        "\n",
        "dat['birch'] = birch_labels\n",
        "\n",
        "print('BIRCH model complete')\n",
        "print('Processing time: '+ str(processing_times['birch'][0]) + ' seconds')"
      ],
      "execution_count": 6,
      "outputs": [
        {
          "output_type": "stream",
          "text": [
            "BIRCH model complete\n",
            "Processing time: 2.5514228343963623 seconds\n"
          ],
          "name": "stdout"
        }
      ]
    },
    {
      "cell_type": "markdown",
      "metadata": {
        "id": "m-04RwTQJVcM",
        "colab_type": "text"
      },
      "source": [
        "# Performance and Cluster Results"
      ]
    },
    {
      "cell_type": "code",
      "metadata": {
        "id": "ZCtEQoNpQh-B",
        "colab_type": "code",
        "outputId": "caef84c0-ad6e-4232-90f6-b9ed12076a18",
        "colab": {
          "base_uri": "https://localhost:8080/",
          "height": 104
        }
      },
      "source": [
        "# Comparing clusters\n",
        "\n",
        "print(processing_times)\n",
        "\n",
        "unique, counts = np.unique(kmeans_labels, return_counts=True)\n",
        "kmeans_clusters = dict(zip(unique, counts))\n",
        "print(kmeans_clusters)\n",
        "\n",
        "unique, counts = np.unique(dbscan_labels, return_counts=True)\n",
        "dbscan_clusters = dict(zip(unique, counts))\n",
        "print(dbscan_clusters)\n",
        "\n",
        "unique, counts = np.unique(birch_labels, return_counts=True)\n",
        "birch_clusters = dict(zip(unique, counts))\n",
        "print(birch_clusters)"
      ],
      "execution_count": 7,
      "outputs": [
        {
          "output_type": "stream",
          "text": [
            "     kmeans     dbscan     birch\n",
            "0  2.450941  11.435936  2.551423\n",
            "{1: 22788, 2: 1134, 3: 134, 4: 1510, 5: 41, 6: 60, 7: 2022, 8: 430, 9: 1113, 10: 113}\n",
            "{0: 1653, 1: 7991, 2: 19508, 3: 26, 4: 29, 5: 56, 6: 11, 7: 11, 8: 19, 9: 10, 10: 11, 11: 10, 12: 10}\n",
            "{1: 54, 2: 1676, 3: 375, 4: 1878, 5: 222, 6: 24453, 7: 48, 8: 547, 9: 41, 10: 51}\n"
          ],
          "name": "stdout"
        }
      ]
    },
    {
      "cell_type": "markdown",
      "metadata": {
        "id": "XRnrmFguKAH2",
        "colab_type": "text"
      },
      "source": [
        "# Hyperparameter Optimization\n",
        "\n",
        "As a secondary task, build a framework that optimizes the parameters of any of the cultersing algorithms implimented above."
      ]
    },
    {
      "cell_type": "markdown",
      "metadata": {
        "id": "UQePZVGxFdMf",
        "colab_type": "text"
      },
      "source": [
        "# Optimal Cluster Size Assessment\n"
      ]
    },
    {
      "cell_type": "code",
      "metadata": {
        "id": "B92tW8GlOlh5",
        "colab_type": "code",
        "colab": {
          "base_uri": "https://localhost:8080/",
          "height": 1000
        },
        "outputId": "6d0b3153-4791-43cc-a064-b19b597cc28e"
      },
      "source": [
        "from matplotlib import pyplot as plt\n",
        "\n",
        "wcss = []\n",
        "K = range(2, 50)\n",
        "for k in K:\n",
        "    print(\"Beginning k = \" + str(k))\n",
        "    kmeans = KMeans(n_clusters=k, n_jobs=None).fit(df)\n",
        "    wcss.append(kmeans.inertia_)\n",
        "\n",
        "plt.plot(K, wcss, 'bx-')\n",
        "plt.xlabel('k')\n",
        "plt.ylabel('Sum_of_squared_distances')\n",
        "plt.title('Elbow Method For Optimal k')\n",
        "plt.show()"
      ],
      "execution_count": 8,
      "outputs": [
        {
          "output_type": "stream",
          "text": [
            "Beginning k = 2\n",
            "Beginning k = 3\n",
            "Beginning k = 4\n",
            "Beginning k = 5\n",
            "Beginning k = 6\n",
            "Beginning k = 7\n",
            "Beginning k = 8\n",
            "Beginning k = 9\n",
            "Beginning k = 10\n",
            "Beginning k = 11\n",
            "Beginning k = 12\n",
            "Beginning k = 13\n",
            "Beginning k = 14\n",
            "Beginning k = 15\n",
            "Beginning k = 16\n",
            "Beginning k = 17\n",
            "Beginning k = 18\n",
            "Beginning k = 19\n",
            "Beginning k = 20\n",
            "Beginning k = 21\n",
            "Beginning k = 22\n",
            "Beginning k = 23\n",
            "Beginning k = 24\n",
            "Beginning k = 25\n",
            "Beginning k = 26\n",
            "Beginning k = 27\n",
            "Beginning k = 28\n",
            "Beginning k = 29\n",
            "Beginning k = 30\n",
            "Beginning k = 31\n",
            "Beginning k = 32\n",
            "Beginning k = 33\n",
            "Beginning k = 34\n",
            "Beginning k = 35\n",
            "Beginning k = 36\n",
            "Beginning k = 37\n",
            "Beginning k = 38\n",
            "Beginning k = 39\n",
            "Beginning k = 40\n",
            "Beginning k = 41\n",
            "Beginning k = 42\n",
            "Beginning k = 43\n",
            "Beginning k = 44\n",
            "Beginning k = 45\n",
            "Beginning k = 46\n",
            "Beginning k = 47\n",
            "Beginning k = 48\n",
            "Beginning k = 49\n"
          ],
          "name": "stdout"
        },
        {
          "output_type": "display_data",
          "data": {
            "image/png": "[encoded data removed]",
            "text/plain": [
              "<Figure size 432x288 with 1 Axes>"
            ]
          },
          "metadata": {
            "tags": []
          }
        }
      ]
    },
    {
      "cell_type": "markdown",
      "metadata": {
        "id": "buayPgdwPQ8i",
        "colab_type": "text"
      },
      "source": [
        "# Distance Metric Evaluation\n",
        "\n",
        "The distance function can be ‘braycurtis’, ‘canberra’, ‘chebyshev’, ‘cityblock’, ‘correlation’, ‘cosine’, ‘dice’, ‘euclidean’, ‘hamming’, ‘jaccard’, ‘jensenshannon’, ‘kulsinski’, ‘mahalanobis’, ‘matching’, ‘minkowski’, ‘rogerstanimoto’, ‘russellrao’, ‘seuclidean’, ‘sokalmichener’, ‘sokalsneath’, ‘sqeuclidean’, ‘yule’\n",
        "\n",
        "Random sample is executed to simplify visualizations. "
      ]
    },
    {
      "cell_type": "code",
      "metadata": {
        "id": "sHUCoWggQAP8",
        "colab_type": "code",
        "colab": {}
      },
      "source": [
        ""
      ],
      "execution_count": 0,
      "outputs": []
    }
  ]
}